{
    "cells": [
     {
      "cell_type": "markdown",
      "metadata": {},
      "source": [
       "# SAGE Pipeline Demonstration\n",
       "\n",
       "This notebook demonstrates the SAGE (Synthetic Attribute-based Generation with agEnt-based refinement) pipeline for generating privacy-preserving synthetic medical data."
      ]
     },
     {
      "cell_type": "code",
      "execution_count": null,
      "metadata": {},
      "outputs": [],
      "source": [
       "import os\n",
       "import sys\n",
       "import json\n",
       "from pathlib import Path\n",
       "\n",
       "# Add project root to path\n",
       "project_root = Path().absolute().parent\n",
       "sys.path.append(str(project_root))\n",
       "\n",
       "# Import needed modules\n",
       "from src.privacy.attribute_extractor import AttributeExtractor\n",
       "from src.privacy.synthetic_generator import SyntheticGenerator\n",
       "from src.privacy.privacy_agent import PrivacyAgent\n",
       "from src.privacy.rewriting_agent import RewritingAgent\n",
       "from src.privacy.sage_pipeline import SAGEPipeline"
      ]
     },
     {
      "cell_type": "markdown",
      "metadata": {},
      "source": [
       "## 1. Load Sample Medical Data\n",
       "\n",
       "Let's load some sample medical data to demonstrate the SAGE pipeline."
      ]
     },
     {
      "cell_type": "code",
      "execution_count": null,
      "metadata": {},
      "outputs": [],
      "source": [
       "# Sample medical records (normally these would be loaded from files)\n",
       "sample_records = {\n",
       "    \"record1\": \"\"\"Patient: John Smith, 45-year-old male, MRN: 12345678\n",
       "Date: March 12, 2025\n",
       "Chief Complaint: Chest pain and shortness of breath for 3 days\n",
       "History: Patient reports intermittent chest pain, described as pressure-like, radiating to the left arm. \n",
       "Pain is worse with exertion and partially relieved with rest. He has a history of hypertension and \n",
       "hyperlipidemia, currently taking lisinopril 10mg daily and atorvastatin 20mg daily. Father had MI at age 50.\n",
       "Physical Exam: BP 145/90, HR 88, RR 18, T 98.6F, O2 97% RA. Heart: Regular rate and rhythm, no murmurs. \n",
       "Lungs: Clear to auscultation bilaterally. Extremities: No edema.\n",
       "Assessment: Acute coronary syndrome, needs urgent evaluation.\n",
       "Plan: 1) EKG; 2) Troponin levels; 3) Aspirin 325mg; 4) Cardiology consult; 5) Admit to telemetry\"\"\",\n",
       "    \n",
       "    \"record2\": \"\"\"Patient: Sarah Johnson, 32-year-old female, MRN: 87654321\n",
       "Date: March 10, 2025\n",
       "Chief Complaint: Severe migraine headache for 2 days\n",
       "History: Patient has history of migraines since age 16. Current episode began 2 days ago, described as \n",
       "throbbing pain in right temporal region, associated with photophobia, phonophobia, and nausea. \n",
       "She typically takes sumatriptan but ran out. No fever, no visual changes, no focal weakness.\n",
       "Medications: Sumatriptan PRN, Ortho Tri-Cyclen\n",
       "Physical Exam: BP 118/72, HR 76, RR 16, T 98.2F. Neurological exam normal. No meningeal signs.\n",
       "Assessment: Acute migraine without aura, moderate to severe\n",
       "Plan: 1) Sumatriptan 100mg PO; 2) IV fluids; 3) Metoclopramide 10mg IV; 4) Refill sumatriptan prescription; \n",
       "5) Follow up with neurology if not improved in 48 hours\"\"\"\n",
       "}\n",
       "\n",
       "# Display the samples\n",
       "for record_id, record_text in sample_records.items():\n",
       "    print(f\"Record ID: {record_id}\")\n",
       "    print(record_text)\n",
       "    print(\"\\n\" + \"-\"*80 + \"\\n\")"
      ]
     },
     {
      "cell_type": "markdown",
      "metadata": {},
      "source": [
       "## 2. Initialize SAGE Pipeline Components\n",
       "\n",
       "Now let's initialize each component of the SAGE pipeline."
      ]
     },
     {
      "cell_type": "code",
      "execution_count": null,
      "metadata": {},
      "outputs": [],
      "source": [
       "# Initialize components\n",
       "attribute_extractor = AttributeExtractor()\n",
       "synthetic_generator = SyntheticGenerator()\n",
       "privacy_agent = PrivacyAgent()\n",
       "rewriting_agent = RewritingAgent()\n",
       "\n",
       "# Initialize SAGE pipeline\n",
       "sage_pipeline = SAGEPipeline(\n",
       "    attribute_extractor=attribute_extractor,\n",
       "    synthetic_generator=synthetic_generator,\n",
       "    privacy_agent=privacy_agent,\n",
       "    rewriting_agent=rewriting_agent,\n",
       "    max_iterations=3,\n",
       "    output_dir=\"../data/notebook_output\"\n",
       ")"
      ]
     },
     {
      "cell_type": "markdown",
      "metadata": {},
      "source": [
       "## 3. Stage 1: Attribute-based Data Generation\n",
       "\n",
       "Let's demonstrate Stage 1 of SAGE, which involves extracting key attributes and generating synthetic data."
      ]
     },
     {
      "cell_type": "code",
      "execution_count": null,
      "metadata": {},
      "outputs": [],
      "source": [
       "# Extract attributes from first record\n",
       "record_id = \"record1\"\n",
       "record_text = sample_records[record_id]\n",
       "\n",
       "# Extract attributes\n",
       "attributes = attribute_extractor.extract_attributes(record_text)\n",
       "\n",
       "# Display extracted attributes\n",
       "print(\"Extracted Attributes:\")\n",
       "for attr, value in attributes.items():\n",
       "    print(f\"- {attr}: {value}\")\n",
       "\n",
       "# Generate synthetic data\n",
       "synthetic_data = synthetic_generator.generate(attributes)\n",
       "\n",
       "print(\"\\nStage 1 Synthetic Data:\")\n",
       "print(synthetic_data)"
      ]
     },
     {
      "cell_type": "markdown",
      "metadata": {},
      "source": [
       "## 4. Stage 2: Agent-based Privacy Refinement\n",
       "\n",
       "Now let's demonstrate Stage 2, which involves privacy assessment and iterative refinement."
      ]
     },
     {
      "cell_type": "code",
      "execution_count": null,
      "metadata": {},
      "outputs": [],
      "source": [
       "# Assess privacy\n",
       "assessment = privacy_agent.assess(synthetic_data, record_text)\n",
       "\n",
       "# Display assessment\n",
       "print(\"Privacy Assessment:\")\n",
       "print(f\"Is Safe: {assessment.is_safe}\")\n",
       "print(f\"Risk Level: {assessment.risk_level}\")\n",
       "print(f\"PII Detected: {assessment.pii_detected}\")\n",
       "print(\"Feedback:\")\n",
       "for item in assessment.feedback:\n",
       "    print(f\"- {item}\")\n",
       "\n",
       "# Refine data based on feedback\n",
       "if not assessment.is_safe:\n",
       "    refined_data = rewriting_agent.refine(synthetic_data, assessment.feedback)\n",
       "    \n",
       "    print(\"\\nRefined Synthetic Data:\")\n",
       "    print(refined_data)\n",
       "    \n",
       "    # Assess refined data\n",
       "    new_assessment = privacy_agent.assess(refined_data, record_text)\n",
       "    \n",
       "    print(\"\\nUpdated Privacy Assessment:\")\n",
       "    print(f\"Is Safe: {new_assessment.is_safe}\")\n",
       "    print(f\"Risk Level: {new_assessment.risk_level}\")\n",
       "    print(f\"PII Detected: {new_assessment.pii_detected}\")"
      ]
     },
     {
      "cell_type": "markdown",
      "metadata": {},
      "source": [
       "## 5. Complete SAGE Pipeline\n",
       "\n",
       "Now let's process both records through the complete SAGE pipeline."
      ]
     },
     {
      "cell_type": "code",
      "execution_count": null,
      "metadata": {},
      "outputs": [],
      "source": [
       "# Process all records\n",
       "results = []\n",
       "\n",
       "for record_id, record_text in sample_records.items():\n",
       "    print(f\"Processing {record_id}...\")\n",
       "    result = sage_pipeline.process_document(record_id, record_text)\n",
       "    results.append(result)\n",
       "    \n",
       "    print(f\"Is Safe: {result['is_safe']}\")\n",
       "    print(f\"Iterations Required: {result['iterations_required']}\")\n",
       "    print(\"\\nFinal Synthetic Data:\")\n",
       "    print(result['final_synthetic_data'])\n",
       "    print(\"\\n\" + \"-\"*80 + \"\\n\")"
      ]
     },
     {
      "cell_type": "markdown",
      "metadata": {},
      "source": [
       "## 6. Compare Original vs. Synthetic Data\n",
       "\n",
       "Let's compare the original and synthetic data to see how SAGE preserves medical utility while protecting privacy."
      ]
     },
     {
      "cell_type": "code",
      "execution_count": null,
      "metadata": {},
      "outputs": [],
      "source": [
       "import pandas as pd\n",
       "from IPython.display import display, HTML\n",
       "\n",
       "comparison_data = []\n",
       "\n",
       "for i, (record_id, record_text) in enumerate(sample_records.items()):\n",
       "    comparison_data.append({\n",
       "        \"Type\": \"Original\",\n",
       "        \"Record\": record_id,\n",
       "        \"Text\": record_text\n",
       "    })\n",
       "    \n",
       "    comparison_data.append({\n",
       "        \"Type\": \"Synthetic\",\n",
       "        \"Record\": record_id,\n",
       "        \"Text\": results[i]['final_synthetic_data']\n",
       "    })\n",
       "\n",
       "df = pd.DataFrame(comparison_data)\n",
       "\n",
       "# Create styled HTML table\n",
       "styled_df = df.style.set_properties(**{'text-align': 'left', 'white-space': 'pre-wrap'})\n",
       "styled_df = styled_df.set_properties(subset=pd.IndexSlice[df['Type'] == 'Original', :], **{'background-color': '#f2f2f2'})\n",
       "styled_df = styled_df.set_properties(subset=pd.IndexSlice[df['Type'] == 'Synthetic', :], **{'background-color': '#e6f7ff'})\n",
       "\n",
       "display(HTML(styled_df.to_html()))"
      ]
     },
     {
      "cell_type": "markdown",
      "metadata": {},
      "source": [
       "## 7. Analyzing Privacy Protection\n",
       "\n",
       "Let's analyze how well SAGE protects different types of private information."
      ]
     },
     {
      "cell_type": "code",
      "execution_count": null,
      "metadata": {},
      "outputs": [],
      "source": [
       "import re\n",
       "\n",
       "# Define privacy categories to analyze\n",
       "privacy_categories = {\n",
       "    \"Names\": r'\\b[A-Z][a-z]+ [A-Z][a-z]+\\b',\n",
       "    \"Dates\": r'\\b(?:Jan|Feb|Mar|Apr|May|Jun|Jul|Aug|Sep|Oct|Nov|Dec)[a-z]* \\d{1,2},? \\d{4}\\b',\n",
       "    \"Patient IDs\": r'\\bMRN: \\d+\\b',\n",
       "    \"Ages\": r'\\b\\d{1,2}-year-old\\b',\n",
       "    \"Exact Measurements\": r'\\b\\d{2,3}/\\d{2,3}\\b'  # Blood pressure, etc.\n",
       "}\n",
       "\n",
       "analysis_results = []\n",
       "\n",
       "for record_id, record_text in sample_records.items():\n",
       "    synthetic_text = next(r['final_synthetic_data'] for r in results if r['document_id'] == record_id)\n",
       "    \n",
       "    for category, pattern in privacy_categories.items():\n",
       "        original_matches = re.findall(pattern, record_text)\n",
       "        synthetic_matches = re.findall(pattern, synthetic_text)\n",
       "        \n",
       "        original_count = len(original_matches)\n",
       "        synthetic_count = len(synthetic_matches)\n",
       "        \n",
       "        # Check for direct matches\n",
       "        direct_matches = set(original_matches) & set(synthetic_matches)\n",
       "        \n",
       "        analysis_results.append({\n",
       "            \"Record\": record_id,\n",
       "            \"Category\": category,\n",
       "            \"Original Count\": original_count,\n",
       "            \"Synthetic Count\": synthetic_count,\n",
       "            \"Direct Matches\": len(direct_matches),\n",
       "            \"Protection Rate\": 100 if original_count == 0 else (1 - len(direct_matches) / original_count) * 100\n",
       "        })\n",
       "\n",
       "analysis_df = pd.DataFrame(analysis_results)\n",
       "display(analysis_df)\n",
       "\n",
       "# Calculate overall protection rate\n",
       "overall_protection = analysis_df['Protection Rate'].mean()\n",
       "print(f\"Overall Privacy Protection Rate: {overall_protection:.2f}%\")"
      ]
     },
     {
      "cell_type": "markdown",
      "metadata": {},
      "source": [
       "## 8. Conclusion\n",
       "\n",
       "In this notebook, we've demonstrated the SAGE pipeline for generating privacy-preserving synthetic medical data. The two-stage approach effectively:\n",
       "\n",
       "1. Preserves the essential medical information through attribute-based extraction and generation\n",
       "2. Protects private information through agent-based privacy assessment and refinement\n",
       "\n",
       "The resulting synthetic data maintains clinical utility while significantly reducing privacy risks, making it suitable for use in a Retrieval-Augmented Generation (RAG) system for biomedical question answering."
      ]
     }
    ],
    "metadata": {
     "kernelspec": {
      "display_name": "Python 3",
      "language": "python",
      "name": "python3"
     },
     "language_info": {
      "codemirror_mode": {
       "name": "ipython",
       "version": 3
      },
      "file_extension": ".py",
      "mimetype": "text/x-python",
      "name": "python",
      "nbconvert_exporter": "python",
      "pygments_lexer": "ipython3",
      "version": "3.8.10"
     }
    },
    "nbformat": 4,
    "nbformat_minor": 4
   }